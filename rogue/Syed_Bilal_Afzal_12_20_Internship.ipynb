{
  "nbformat": 4,
  "nbformat_minor": 0,
  "metadata": {
    "colab": {
      "provenance": []
    },
    "kernelspec": {
      "name": "python3",
      "display_name": "Python 3"
    },
    "language_info": {
      "name": "python"
    }
  },
  "cells": [
    {
      "cell_type": "code",
      "execution_count": null,
      "metadata": {
        "id": "gKkAa92Ku5KX",
        "colab": {
          "base_uri": "https://localhost:8080/"
        },
        "outputId": "18414a0b-26cb-43fa-c228-acca0a4f620b"
      },
      "outputs": [
        {
          "output_type": "stream",
          "name": "stdout",
          "text": [
            "1759\n"
          ]
        }
      ],
      "source": [
        "import datetime\n",
        "import pandas as pd\n",
        "# Given this data\n",
        "origination_date = datetime.date(2023, 6, 1)\n",
        "origination_amount = 2000\n",
        "\n",
        "payment_tape = [\n",
        "    {'amount': 540, 'date':datetime.date(2023, 9, 16), 'label': 'principal'},\n",
        "    {'amount': 98, 'date':datetime.date(2023, 9, 16), 'label': 'interest'},\n",
        "    {'amount': 241, 'date':datetime.date(2023, 5, 16), 'label': 'principal'},\n",
        "    {'amount': 1341, 'date':datetime.date(2023, 8, 3), 'label': 'principal'},\n",
        "    {'amount': 62, 'date':datetime.date(2023, 8, 3), 'label': 'interest'},\n",
        "]\n",
        "\n",
        "\"\"\"\n",
        "Calculate the principal outstanding of this loan. Principal outstanding is defined as the current amount of principal that is due on the loan.\n",
        "\"\"\"\n",
        "def calculate_principal_outstanding(origination_amount, payment_tape):\n",
        "  principal_outstanding = origination_amount\n",
        "\n",
        "  for payment in payment_tape:\n",
        "    if payment['label'] == 'principal' and payment['date'] <= origination_date:\n",
        "      principal_outstanding -= payment['amount']\n",
        "\n",
        "  return principal_outstanding\n",
        "\n",
        "print(calculate_principal_outstanding(origination_amount, payment_tape))\n"
      ]
    },
    {
      "cell_type": "code",
      "source": [
        "# give scheduled payment tape\n",
        "scheduled_payment_tape = [\n",
        "    {'amount': 650, 'date':datetime.date(2023, 7, 1)},\n",
        "    {'amount': 650, 'date':datetime.date(2023, 8, 1)},\n",
        "    {'amount': 650, 'date':datetime.date(2023, 9, 1)},\n",
        "    {'amount': 650, 'date':datetime.date(2023, 10, 1)},\n",
        "]\n",
        "\n",
        "\"\"\"\n",
        "DPD shows the number of days by which the debtor missed a payment. If they made timely payments in the past, their DPD will be mentioned as '0'.\n",
        "DPD considers everything as end of that date. If your total payment cannot cover scheduled payment amount as of end of that date, your DPD is 1.\n",
        "The number will keep increasing until the total payment can cover the total scheduled amount. Then the DPD is reset back to 0.\n",
        "\"\"\"\n",
        "def calculate_dpd(origination_date, origination_amount, payment_tape, scheduled_payment_tape):\n",
        "\n",
        "  total_payed = 0\n",
        "  total_owed = 0\n",
        "  dpd = 0\n",
        "\n",
        "  for payment_outstanding in scheduled_payment_tape:\n",
        "    total_owed += payment_outstanding['amount']\n",
        "\n",
        "    for payment_payed in payment_tape:\n",
        "\n",
        "      if payment_payed['date'] >= origination_date and payment_payed['date'] < payment_outstanding['date']:\n",
        "        total_payed += payment_payed['amount']\n",
        "      if total_payed < total_owed:\n",
        "        dpd += 1\n",
        "      else:\n",
        "        dpd = 0\n",
        "\n",
        "    return dpd\n",
        "\n",
        "\n",
        "\n",
        "print(calculate_dpd(origination_date, origination_amount, payment_tape, scheduled_payment_tape))"
      ],
      "metadata": {
        "id": "G-iZlN342BCp",
        "colab": {
          "base_uri": "https://localhost:8080/"
        },
        "outputId": "183092f1-e807-4fc4-c722-94cf92cde442"
      },
      "execution_count": 11,
      "outputs": [
        {
          "output_type": "stream",
          "name": "stdout",
          "text": [
            "5\n"
          ]
        }
      ]
    },
    {
      "cell_type": "code",
      "source": [
        "total_pay = 0\n",
        "for i in payment_tape:\n",
        "  total_pay += i['amount']\n",
        "\n",
        "total_pay"
      ],
      "metadata": {
        "colab": {
          "base_uri": "https://localhost:8080/"
        },
        "id": "KYRBvZDj_Jnl",
        "outputId": "2ac23444-2e7a-445b-bffa-eb377d4d529e"
      },
      "execution_count": 13,
      "outputs": [
        {
          "output_type": "execute_result",
          "data": {
            "text/plain": [
              "2282"
            ]
          },
          "metadata": {},
          "execution_count": 13
        }
      ]
    }
  ]
}